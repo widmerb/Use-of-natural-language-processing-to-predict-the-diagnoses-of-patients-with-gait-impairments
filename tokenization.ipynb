{
 "cells": [
  {
   "cell_type": "code",
   "execution_count": null,
   "id": "2b9691e5-c20f-428d-aa36-1063700e3c66",
   "metadata": {},
   "outputs": [],
   "source": [
    "import os\n",
    "import re\n",
    "import pandas as pd\n",
    "from sklearn.model_selection import train_test_split\n",
    "from nltk.corpus import stopwords\n",
    "import re\n",
    "from compound_split import doc_split\n",
    "import string\n",
    "import spacy\n",
    "from deep_translator import GoogleTranslator\n",
    "from nltk.stem import WordNetLemmatizer"
   ]
  },
  {
   "cell_type": "code",
   "execution_count": null,
   "id": "29bece81-6220-46d3-b2e3-6e042b0d0d15",
   "metadata": {},
   "outputs": [],
   "source": [
    "workingDir = os.path.abspath(os.path.join(''))"
   ]
  },
  {
   "attachments": {},
   "cell_type": "markdown",
   "id": "dea99196",
   "metadata": {},
   "source": [
    "### read df"
   ]
  },
  {
   "cell_type": "code",
   "execution_count": null,
   "id": "b1d17dcc",
   "metadata": {},
   "outputs": [],
   "source": [
    "# before removing nan values\n",
    "df = pd.read_csv(filepath_or_buffer=os.path.join(workingDir, 'data', 'diagnoses.csv'))"
   ]
  },
  {
   "cell_type": "code",
   "execution_count": null,
   "id": "759486be",
   "metadata": {},
   "outputs": [],
   "source": [
    "# Define the CPCode2Topology function\n",
    "def CPCode2Topology(CPCode):\n",
    "    if CPCode == 'G80.0':\n",
    "        return 'Undefined'\n",
    "    elif CPCode == 'G80.1':\n",
    "        return 'Bilateral'\n",
    "    elif CPCode == 'G80.2':\n",
    "        return 'Unilateral'\n",
    "    elif CPCode in ['G80.3', 'G80.4', 'G80.8', 'G80.9']:\n",
    "        return 'Undefined'\n",
    "    elif CPCode in ['G81.0', 'G81.1', 'G81.9']:\n",
    "        return 'Unilateral'\n",
    "    else:\n",
    "        return 'none'\n",
    "\n",
    "# Assuming IData is a pandas DataFrame\n",
    "# Apply the CPCode2Topology function to each entry in the 'Output' column\n",
    "df['Topology'] = df['Output'].apply(CPCode2Topology)"
   ]
  },
  {
   "cell_type": "markdown",
   "id": "f98a9fe4",
   "metadata": {},
   "source": [
    "Tokenize"
   ]
  },
  {
   "cell_type": "code",
   "execution_count": null,
   "id": "c04a446a",
   "metadata": {},
   "outputs": [],
   "source": [
    "# Extracting the 'Input' column from the DataFrame 'df' and assigning it to the variable 'X'\n",
    "# Extracting the 'Topology' column from the DataFrame 'df' and assigning it to the variable 'y'\n",
    "X, y = df.Input, df.Topology"
   ]
  },
  {
   "cell_type": "code",
   "execution_count": null,
   "id": "9a771a4e-c1eb-4d32-9705-ba50025007e7",
   "metadata": {},
   "outputs": [],
   "source": [
    "nlp = spacy.load('de_core_news_md')\n",
    "stopw = stopwords.words('german')\n",
    "\n",
    "documents = []\n",
    "doc_cp = []\n",
    "doc_not_cp = []\n",
    "\n",
    "\n",
    "for sen in range(0, len(X)):\n",
    "    document = str(X[sen])\n",
    "    \n",
    "    #split german compound \n",
    "    document = doc_split.doc_split(string.capwords(document))\n",
    "        \n",
    "    #remove numbers\n",
    "    document = re.sub(r'[0-9]{1}', ' ', document)\n",
    "    document = re.sub(r'[0-9]{2}', ' ', document)\n",
    "    document = re.sub(r'[0-9]{3}', ' ', document)\n",
    "    document = re.sub(r'[0-9]{4}', ' ', document)\n",
    "    \n",
    "    # Remove all the special characters\n",
    "    document = re.sub(r'\\W', ' ', document)\n",
    "    \n",
    "    # remove all single characters\n",
    "    document = re.sub(r'\\s+[a-zA-Z]\\s+', ' ', document)\n",
    "    \n",
    "    # Remove single characters from the start\n",
    "    document = re.sub(r'\\^[a-zA-Z]\\s+', ' ', document) \n",
    "    \n",
    "    # Substituting multiple spaces with single space\n",
    "    document = re.sub(r'\\s+', ' ', document, flags=re.I)\n",
    "    \n",
    "    # Removing prefixed 'b'\n",
    "    document = re.sub(r'^b\\s+', '', document)\n",
    "    \n",
    "    # Lemmatization\n",
    "    document = nlp(document)\n",
    "    document = [word.lemma_ for word in document]\n",
    "    document = ' '.join(document)\n",
    "\n",
    "    # Converting to Lowercase\n",
    "    document = document.lower()\n",
    "    \n",
    "    # removing stop words\n",
    "    document = document.split()\n",
    "    document = [w for w in document if not w in stopw]\n",
    "    document = ' '.join(document)\n",
    "    \n",
    "\n",
    "    documents.append(document)\n",
    "    \n",
    "    if y[sen]:\n",
    "        doc_cp.append(document)\n",
    "    else:\n",
    "        doc_not_cp.append(document)"
   ]
  },
  {
   "cell_type": "code",
   "execution_count": null,
   "id": "9540004d",
   "metadata": {},
   "outputs": [],
   "source": [
    "df[\"input_german\"] = pd.DataFrame({'input_german': documents})"
   ]
  },
  {
   "cell_type": "code",
   "execution_count": null,
   "id": "cdfa9718",
   "metadata": {},
   "outputs": [],
   "source": [
    "documents = []\n",
    "\n",
    "for sen in range(0, len(X)):\n",
    "    document = str(X[sen])\n",
    "       \n",
    "    # Substituting multiple spaces with single space\n",
    "    document = re.sub(r'\\s+', ' ', document, flags=re.I)\n",
    "    \n",
    "    documents.append(document)\n",
    "    "
   ]
  },
  {
   "cell_type": "code",
   "execution_count": null,
   "id": "556812d9",
   "metadata": {},
   "outputs": [],
   "source": [
    "df[\"input_german_bert\"] = pd.DataFrame({'input_german_bert': documents})"
   ]
  },
  {
   "attachments": {},
   "cell_type": "markdown",
   "id": "a9694228-53d5-45a4-8e4d-cd0e5ff39369",
   "metadata": {},
   "source": [
    "## Using translation"
   ]
  },
  {
   "cell_type": "code",
   "execution_count": null,
   "id": "83e919cc-c282-4ffc-b848-7491f9756720",
   "metadata": {},
   "outputs": [],
   "source": [
    "X, y = df.Input, df.Topology"
   ]
  },
  {
   "cell_type": "code",
   "execution_count": null,
   "id": "da87587d-93ea-4043-b00a-3f71140a40bd",
   "metadata": {},
   "outputs": [],
   "source": [
    "nlp = spacy.load('en_core_web_md')\n",
    "stopw = stopwords.words('english')\n",
    "\n",
    "documents = []\n",
    "doc_cp = []\n",
    "doc_not_cp = []\n",
    "\n",
    "lemmatizer = WordNetLemmatizer()\n",
    "\n",
    "for sen in range(0, len(X)):\n",
    "    document = str(X[sen])\n",
    "    document = GoogleTranslator(source='de', target='en').translate(document)\n",
    "    #remove numbers\n",
    "    document = re.sub(r'[0-9]{1}', ' ', document)\n",
    "    document = re.sub(r'[0-9]{2}', ' ', document)\n",
    "    document = re.sub(r'[0-9]{3}', ' ', document)\n",
    "    document = re.sub(r'[0-9]{4}', ' ', document)\n",
    "    \n",
    "    # Remove all the special characters\n",
    "    document = re.sub(r'\\W', ' ', document)\n",
    "    \n",
    "    # remove all single characters\n",
    "    document = re.sub(r'\\s+[a-zA-Z]\\s+', ' ', document)\n",
    "    \n",
    "    # Remove single characters from the start\n",
    "    document = re.sub(r'\\^[a-zA-Z]\\s+', ' ', document) \n",
    "    \n",
    "    # Substituting multiple spaces with single space\n",
    "    document = re.sub(r'\\s+', ' ', document, flags=re.I)\n",
    "    \n",
    "    # Removing prefixed 'b'\n",
    "    document = re.sub(r'^b\\s+', '', document)\n",
    "        \n",
    "    # Lemmatization\n",
    "    document = nlp(document)\n",
    "    document = [word.lemma_ for word in document]\n",
    "    document = ' '.join(document)\n",
    "    \n",
    "    # Converting to Lowercase\n",
    "    document = document.lower()\n",
    "    \n",
    "    # removing stop words\n",
    "    document = document.split()\n",
    "    document = [w for w in document if not w in stopw]\n",
    "    document = ' '.join(document)\n",
    "\n",
    "    documents.append(document)\n",
    "\n",
    "    if y[sen]:\n",
    "        doc_cp.append(document)\n",
    "    else:\n",
    "        doc_not_cp.append(document)\n"
   ]
  },
  {
   "cell_type": "code",
   "execution_count": null,
   "id": "962e1d21",
   "metadata": {},
   "outputs": [],
   "source": [
    "df[\"input_english\"] = pd.DataFrame({'input_english': documents})"
   ]
  },
  {
   "cell_type": "code",
   "execution_count": null,
   "id": "b503cecb",
   "metadata": {},
   "outputs": [],
   "source": [
    "documents = []\n",
    "\n",
    "for sen in range(0, len(X)):\n",
    "    document = str(X[sen])\n",
    "    document = GoogleTranslator(source='de', target='en').translate(document)\n",
    "    \n",
    "    # Substituting multiple spaces with single space\n",
    "    document = re.sub(r'\\s+', ' ', document, flags=re.I)\n",
    "    \n",
    "    \n",
    "    documents.append(document)\n"
   ]
  },
  {
   "cell_type": "code",
   "execution_count": null,
   "id": "dbe9f293",
   "metadata": {},
   "outputs": [],
   "source": [
    "df[\"input_english_bert\"] = pd.DataFrame({'input_english_bert': documents})"
   ]
  },
  {
   "cell_type": "code",
   "execution_count": null,
   "id": "41d71d80",
   "metadata": {},
   "outputs": [],
   "source": [
    "df_train, df_test, y_train, y_test = train_test_split(df, y, test_size=0.2, random_state=1, stratify=y)"
   ]
  },
  {
   "cell_type": "code",
   "execution_count": null,
   "id": "df2bdcf8-b32c-4457-b33a-34452f113390",
   "metadata": {},
   "outputs": [],
   "source": [
    "df_train.to_csv(\"train.csv\", encoding='utf-8', index=False)\n",
    "df_test.to_csv(\"test.csv\", encoding='utf-8', index=False)"
   ]
  }
 ],
 "metadata": {
  "kernelspec": {
   "display_name": "nlp_cp",
   "language": "python",
   "name": "python3"
  },
  "language_info": {
   "codemirror_mode": {
    "name": "ipython",
    "version": 3
   },
   "file_extension": ".py",
   "mimetype": "text/x-python",
   "name": "python",
   "nbconvert_exporter": "python",
   "pygments_lexer": "ipython3",
   "version": "3.9.18"
  }
 },
 "nbformat": 4,
 "nbformat_minor": 5
}
